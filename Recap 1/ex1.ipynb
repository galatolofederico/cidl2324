{
 "cells": [
  {
   "cell_type": "code",
   "execution_count": 2,
   "metadata": {},
   "outputs": [],
   "source": [
    "import torch\n",
    "import torchvision\n",
    "\n",
    "\n",
    "train_mnist = torchvision.datasets.MNIST(\n",
    "    \"./data\",\n",
    "    train=True,\n",
    "    download=True,\n",
    "    transform=torchvision.transforms.Compose([\n",
    "        torchvision.transforms.ToTensor(),\n",
    "        torchvision.transforms.Normalize((0.1307,), (0.3081,))\n",
    "    ])\n",
    ")\n",
    "\n",
    "test_mnist = torchvision.datasets.MNIST(\n",
    "    \"./data\",\n",
    "    train=False,\n",
    "    download=True,\n",
    "    transform=torchvision.transforms.Compose([\n",
    "        torchvision.transforms.ToTensor(),\n",
    "        torchvision.transforms.Normalize((0.1307,), (0.3081,))\n",
    "    ])\n",
    ")"
   ]
  },
  {
   "cell_type": "code",
   "execution_count": 3,
   "metadata": {},
   "outputs": [
    {
     "name": "stdout",
     "output_type": "stream",
     "text": [
      "Train size:  60000\n",
      "Test size:  10000\n"
     ]
    }
   ],
   "source": [
    "print(\"Train size: \", len(train_mnist))\n",
    "print(\"Test size: \", len(test_mnist))"
   ]
  },
  {
   "cell_type": "code",
   "execution_count": 4,
   "metadata": {},
   "outputs": [
    {
     "name": "stdout",
     "output_type": "stream",
     "text": [
      "torch.Size([1, 28, 28])\n",
      "0\n",
      "tensor(0.0806)\n",
      "tensor(1.0684)\n"
     ]
    }
   ],
   "source": [
    "digit, cls = train_mnist[1]\n",
    "\n",
    "print(digit.shape)\n",
    "print(cls)\n",
    "\n",
    "print(digit.mean())\n",
    "print(digit.std())"
   ]
  },
  {
   "cell_type": "code",
   "execution_count": 5,
   "metadata": {},
   "outputs": [
    {
     "data": {
      "text/plain": [
       "<matplotlib.image.AxesImage at 0x7f67bd323b50>"
      ]
     },
     "execution_count": 5,
     "metadata": {},
     "output_type": "execute_result"
    },
    {
     "data": {
      "image/png": "[encoded data removed]",
      "text/plain": [
       "<Figure size 480x480 with 1 Axes>"
      ]
     },
     "metadata": {},
     "output_type": "display_data"
    }
   ],
   "source": [
    "from matplotlib import pyplot as plt\n",
    "%matplotlib inline\n",
    "\n",
    "plt.matshow(digit[0])"
   ]
  },
  {
   "cell_type": "code",
   "execution_count": 31,
   "metadata": {},
   "outputs": [
    {
     "name": "stdout",
     "output_type": "stream",
     "text": [
      "torch.Size([8, 10])\n",
      "tensor([1.0000, 1.0000, 1.0000, 1.0000, 1.0000, 1.0000, 1.0000, 1.0000],\n",
      "       grad_fn=<SumBackward1>)\n"
     ]
    }
   ],
   "source": [
    "class CNNClassifier(torch.nn.Module):\n",
    "    def __init__(self):\n",
    "        super().__init__()\n",
    "\n",
    "        self.cnn = torch.nn.Sequential(\n",
    "            torch.nn.Conv2d(1, 16, (3, 3)),\n",
    "            torch.nn.LeakyReLU(),\n",
    "            torch.nn.Conv2d(16, 32, (4, 4), stride=2),\n",
    "            torch.nn.LeakyReLU(),\n",
    "            torch.nn.Conv2d(32, 64, (5, 5), stride=2),\n",
    "            torch.nn.LeakyReLU()\n",
    "        )\n",
    "\n",
    "        self.ff = torch.nn.Sequential(\n",
    "            torch.nn.Linear(1024, 300),\n",
    "            torch.nn.LeakyReLU(),\n",
    "            torch.nn.Linear(300 ,300),\n",
    "            torch.nn.LeakyReLU(),\n",
    "            torch.nn.Linear(300, 10),\n",
    "            torch.nn.Softmax(dim=1)\n",
    "        )\n",
    "    \n",
    "    def forward(self, x):\n",
    "        features = self.cnn(x)\n",
    "        features = features.view(features.shape[0], -1)\n",
    "        \n",
    "        prob = self.ff(features)\n",
    "\n",
    "        return prob\n",
    "\n",
    "dl = torch.utils.data.DataLoader(train_mnist, batch_size=8, shuffle=True)\n",
    "cnn = CNNClassifier()\n",
    "\n",
    "digits, classes = next(iter(dl))\n",
    "\n",
    "out = cnn(digits)\n",
    "print(out.shape)\n",
    "print(out.sum(dim=1))"
   ]
  },
  {
   "cell_type": "code",
   "execution_count": 33,
   "metadata": {},
   "outputs": [
    {
     "data": {
      "text/html": [
       "Finishing last run (ID:yc4kl447) before initializing another..."
      ],
      "text/plain": [
       "<IPython.core.display.HTML object>"
      ]
     },
     "metadata": {},
     "output_type": "display_data"
    },
    {
     "data": {
      "text/html": [
       "Waiting for W&B process to finish... <strong style=\"color:green\">(success).</strong>"
      ],
      "text/plain": [
       "<IPython.core.display.HTML object>"
      ]
     },
     "metadata": {},
     "output_type": "display_data"
    },
    {
     "data": {
      "text/html": [
       "<style>\n",
       "    table.wandb td:nth-child(1) { padding: 0 10px; text-align: left ; width: auto;} td:nth-child(2) {text-align: left ; width: 100%}\n",
       "    .wandb-row { display: flex; flex-direction: row; flex-wrap: wrap; justify-content: flex-start; width: 100% }\n",
       "    .wandb-col { display: flex; flex-direction: column; flex-basis: 100%; flex: 1; padding: 10px; }\n",
       "    </style>\n",
       "<div class=\"wandb-row\"><div class=\"wandb-col\"><h3>Run history:</h3><br/><table class=\"wandb\"><tr><td>acc</td><td>▁▂▆▅█▄▇▆▇▅▅█▅▆▄▆▅▆▅▅▅▅▅▆▄▇▅▁▅▅▅▆▄▆▄▅▅▁▂▄</td></tr><tr><td>loss</td><td>█▇▃▄▁▅▂▃▂▄▄▁▄▃▅▃▄▃▄▄▄▄▄▃▅▂▄█▄▄▄▃▅▃▅▄▄█▇▅</td></tr></table><br/></div><div class=\"wandb-col\"><h3>Run summary:</h3><br/><table class=\"wandb\"><tr><td>acc</td><td>0.65625</td></tr><tr><td>loss</td><td>1.80543</td></tr></table><br/></div></div>"
      ],
      "text/plain": [
       "<IPython.core.display.HTML object>"
      ]
     },
     "metadata": {},
     "output_type": "display_data"
    },
    {
     "data": {
      "text/html": [
       " View run <strong style=\"color:#cdcd00\">resilient-moon-6</strong> at: <a href='https://wandb.ai/galatolo/uncategorized/runs/yc4kl447' target=\"_blank\">https://wandb.ai/galatolo/uncategorized/runs/yc4kl447</a><br/>Synced 5 W&B file(s), 0 media file(s), 0 artifact file(s) and 0 other file(s)"
      ],
      "text/plain": [
       "<IPython.core.display.HTML object>"
      ]
     },
     "metadata": {},
     "output_type": "display_data"
    },
    {
     "data": {
      "text/html": [
       "Find logs at: <code>./wandb/run-20231018_095053-yc4kl447/logs</code>"
      ],
      "text/plain": [
       "<IPython.core.display.HTML object>"
      ]
     },
     "metadata": {},
     "output_type": "display_data"
    },
    {
     "data": {
      "text/html": [
       "Successfully finished last run (ID:yc4kl447). Initializing new run:<br/>"
      ],
      "text/plain": [
       "<IPython.core.display.HTML object>"
      ]
     },
     "metadata": {},
     "output_type": "display_data"
    },
    {
     "data": {
      "text/html": [
       "Tracking run with wandb version 0.15.12"
      ],
      "text/plain": [
       "<IPython.core.display.HTML object>"
      ]
     },
     "metadata": {},
     "output_type": "display_data"
    },
    {
     "data": {
      "text/html": [
       "Run data is saved locally in <code>/disk/home/federico/Misc/cidl-ex/wandb/run-20231018_095224-m5tybg8b</code>"
      ],
      "text/plain": [
       "<IPython.core.display.HTML object>"
      ]
     },
     "metadata": {},
     "output_type": "display_data"
    },
    {
     "data": {
      "text/html": [
       "Syncing run <strong><a href='https://wandb.ai/galatolo/uncategorized/runs/m5tybg8b' target=\"_blank\">morning-sun-7</a></strong> to <a href='https://wandb.ai/galatolo/uncategorized' target=\"_blank\">Weights & Biases</a> (<a href='https://wandb.me/run' target=\"_blank\">docs</a>)<br/>"
      ],
      "text/plain": [
       "<IPython.core.display.HTML object>"
      ]
     },
     "metadata": {},
     "output_type": "display_data"
    },
    {
     "data": {
      "text/html": [
       " View project at <a href='https://wandb.ai/galatolo/uncategorized' target=\"_blank\">https://wandb.ai/galatolo/uncategorized</a>"
      ],
      "text/plain": [
       "<IPython.core.display.HTML object>"
      ]
     },
     "metadata": {},
     "output_type": "display_data"
    },
    {
     "data": {
      "text/html": [
       " View run at <a href='https://wandb.ai/galatolo/uncategorized/runs/m5tybg8b' target=\"_blank\">https://wandb.ai/galatolo/uncategorized/runs/m5tybg8b</a>"
      ],
      "text/plain": [
       "<IPython.core.display.HTML object>"
      ]
     },
     "metadata": {},
     "output_type": "display_data"
    },
    {
     "name": "stderr",
     "output_type": "stream",
     "text": [
      "loss: 1.48  acc: 0.97: 100%|██████████| 1875/1875 [00:09<00:00, 187.70it/s]\n",
      "loss: 1.48  acc: 0.97: 100%|██████████| 1875/1875 [00:09<00:00, 190.31it/s]\n",
      "loss: 1.47  acc: 1.00: 100%|██████████| 1875/1875 [00:09<00:00, 190.47it/s]\n"
     ]
    }
   ],
   "source": [
    "from tqdm import tqdm\n",
    "import wandb\n",
    "\n",
    "dl = torch.utils.data.DataLoader(train_mnist, batch_size=32, shuffle=True)\n",
    "model = CNNClassifier()\n",
    "loss_fn = torch.nn.CrossEntropyLoss()\n",
    "optimizer = torch.optim.Adam(model.parameters(), lr=0.0001)\n",
    "\n",
    "model = model.to(\"cuda\")\n",
    "wandb.init()\n",
    "\n",
    "for epoch in range(3):\n",
    "    bar = tqdm(dl)\n",
    "    for digit, classes in bar:\n",
    "        digit = digit.to(\"cuda\")\n",
    "        classes = classes.to(\"cuda\")\n",
    "\n",
    "        pred = model(digit)\n",
    "        loss = loss_fn(pred, classes)\n",
    "\n",
    "        acc = (pred.argmax(dim=1) == classes).float().mean()\n",
    "\n",
    "        optimizer.zero_grad()\n",
    "        loss.backward()\n",
    "        optimizer.step()\n",
    "\n",
    "        bar.set_description(f\"loss: {loss.item():.2f}  acc: {acc.item():.2f}\")\n",
    "\n",
    "        wandb.log(dict(\n",
    "            loss=loss.item(),\n",
    "            acc=acc.item()\n",
    "        ))\n",
    "        \n",
    "\n"
   ]
  },
  {
   "cell_type": "code",
   "execution_count": null,
   "metadata": {},
   "outputs": [],
   "source": []
  }
 ],
 "metadata": {
  "kernelspec": {
   "display_name": ".venv",
   "language": "python",
   "name": "python3"
  },
  "language_info": {
   "codemirror_mode": {
    "name": "ipython",
    "version": 3
   },
   "file_extension": ".py",
   "mimetype": "text/x-python",
   "name": "python",
   "nbconvert_exporter": "python",
   "pygments_lexer": "ipython3",
   "version": "3.11.5"
  },
  "orig_nbformat": 4
 },
 "nbformat": 4,
 "nbformat_minor": 2
}
