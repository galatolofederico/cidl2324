{
 "cells": [
  {
   "cell_type": "code",
   "execution_count": 1,
   "id": "f2be7a92",
   "metadata": {},
   "outputs": [],
   "source": [
    "import torch\n",
    "from tqdm.auto import tqdm\n",
    "from PIL import Image\n",
    "\n",
    "from transformers import CLIPTextModel, CLIPTokenizer\n",
    "from diffusers import AutoencoderKL, UNet2DConditionModel\n",
    "from diffusers import LMSDiscreteScheduler\n",
    "\n",
    "\n",
    "def latents_to_pil(latents, vae):\n",
    "    latents = (1 / 0.18215) * latents\n",
    "    with torch.no_grad():\n",
    "        image = vae.decode(latents).sample\n",
    "    image = (image / 2 + 0.5).clamp(0, 1)\n",
    "    image = image.detach().cpu().permute(0, 2, 3, 1).numpy()\n",
    "    images = (image * 255).round().astype(\"uint8\")\n",
    "    pil_images = [Image.fromarray(image) for image in images]\n",
    "    return pil_images\n",
    "\n",
    "class StableDiffusion:\n",
    "    def __init__(\n",
    "            self,\n",
    "            sd_model=\"CompVis/stable-diffusion-v1-4\",\n",
    "            encoder_model=\"openai/clip-vit-large-patch14\",\n",
    "            max_embeddings_length=77,\n",
    "        ):\n",
    "        self.tokenizer = CLIPTokenizer.from_pretrained(encoder_model, torch_dtype=torch.float16)\n",
    "        self.text_encoder = CLIPTextModel.from_pretrained(encoder_model, torch_dtype=torch.float16).to(\"cuda\")\n",
    "        self.vae = AutoencoderKL.from_pretrained(sd_model, subfolder=\"vae\", torch_dtype=torch.float16).to(\"cuda\")\n",
    "        self.unet = UNet2DConditionModel.from_pretrained(sd_model, subfolder=\"unet\", torch_dtype=torch.float16).to(\"cuda\")\n",
    "\n",
    "        self.max_embeddings_length = max_embeddings_length\n",
    "        self.unconditional_embeddings =  self.encode_text([\"\"])\n",
    "\n",
    "    def encode_text(self, prompts):\n",
    "        inp = self.tokenizer(\n",
    "            prompts,\n",
    "            padding=\"max_length\",\n",
    "            max_length=self.max_embeddings_length,\n",
    "            truncation=True,\n",
    "            return_tensors=\"pt\"\n",
    "        ) \n",
    "        return self.text_encoder(inp.input_ids.to(\"cuda\"))[0].half()\n",
    "\n",
    "    def generate(self, embeddings,  g=7.5, seed=100, steps=70, dim=512):\n",
    "        bs = embeddings.shape[0]\n",
    "        embeddings = embeddings.to(\"cuda\").half()\n",
    "\n",
    "        scheduler = LMSDiscreteScheduler(\n",
    "            beta_start=0.00085,\n",
    "            beta_end=0.012,\n",
    "            beta_schedule=\"scaled_linear\",\n",
    "            num_train_timesteps=1000\n",
    "        )\n",
    "        scheduler.set_timesteps(steps)\n",
    "\n",
    "        latents = torch.randn((bs, self.unet.config.in_channels, dim//8, dim//8))\n",
    "        latents = latents.to(\"cuda\").half() * scheduler.init_noise_sigma\n",
    "\n",
    "        emb = torch.cat([torch.cat([self.unconditional_embeddings] * bs), embeddings])\n",
    "\n",
    "        for i,ts in enumerate(tqdm(scheduler.timesteps)):\n",
    "            inp = scheduler.scale_model_input(torch.cat([latents] * 2), ts)\n",
    "            with torch.no_grad():\n",
    "                u,t = self.unet(inp, ts, encoder_hidden_states=emb).sample.chunk(2)\n",
    "                \n",
    "            pred = u + g*(t-u)\n",
    "            latents = scheduler.step(pred, ts, latents).prev_sample\n",
    "\n",
    "        return latents_to_pil(latents, self.vae)\n"
   ]
  },
  {
   "cell_type": "code",
   "execution_count": 2,
   "id": "1a278aa3",
   "metadata": {},
   "outputs": [
    {
     "data": {
      "application/vnd.jupyter.widget-view+json": {
       "model_id": "0ac1258eb8704f19862d2beae82b5533",
       "version_major": 2,
       "version_minor": 0
      },
      "text/plain": [
       "  0%|          | 0/70 [00:00<?, ?it/s]"
      ]
     },
     "metadata": {},
     "output_type": "display_data"
    }
   ],
   "source": [
    "sd = StableDiffusion()\n",
    "text_embeddings = sd.encode_text([\n",
    "    \"Cute picture of a dog\",\n",
    "    \"Cute picture of a cat\"\n",
    "])\n",
    "text_embeddings = torch.cat([\n",
    "    text_embeddings,\n",
    "    ((text_embeddings[0] + text_embeddings[1]) / 2).unsqueeze(0),\n",
    "])\n",
    "\n",
    "imgs = sd.generate(text_embeddings)\n",
    "\n",
    "imgs[0].save(\"img/img0.png\")\n",
    "imgs[1].save(\"img/img1.png\")\n",
    "imgs[2].save(\"img/img2.png\")"
   ]
  }
 ],
 "metadata": {
  "kernelspec": {
   "display_name": "Python 3 (ipykernel)",
   "language": "python",
   "name": "python3"
  },
  "language_info": {
   "codemirror_mode": {
    "name": "ipython",
    "version": 3
   },
   "file_extension": ".py",
   "mimetype": "text/x-python",
   "name": "python",
   "nbconvert_exporter": "python",
   "pygments_lexer": "ipython3",
   "version": "3.10.12"
  }
 },
 "nbformat": 4,
 "nbformat_minor": 5
}
