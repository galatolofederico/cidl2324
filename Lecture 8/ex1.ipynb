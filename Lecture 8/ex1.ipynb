{
 "cells": [
  {
   "cell_type": "code",
   "execution_count": null,
   "id": "f2be7a92",
   "metadata": {},
   "outputs": [],
   "source": [
    "import torch\n",
    "from diffusers import StableDiffusionPipeline, EulerDiscreteScheduler\n",
    "\n",
    "model_id = \"stabilityai/stable-diffusion-2\"\n",
    "\n",
    "scheduler = EulerDiscreteScheduler.from_pretrained(model_id, subfolder=\"scheduler\")\n",
    "pipe = StableDiffusionPipeline.from_pretrained(model_id, scheduler=scheduler, torch_dtype=torch.float16)\n",
    "pipe = pipe.to(\"cuda\")"
   ]
  },
  {
   "cell_type": "code",
   "execution_count": null,
   "id": "1a278aa3",
   "metadata": {},
   "outputs": [],
   "source": [
    "prompt = \"oil painting of the Leaning Tower of Pisa at night with the moon\"\n",
    "image = pipe(prompt).images[0]\n",
    "image.save(\"night.png\")"
   ]
  },
  {
   "cell_type": "code",
   "execution_count": null,
   "id": "eb95188c",
   "metadata": {},
   "outputs": [],
   "source": [
    "prompt = \"oil painting of the Leaning Tower of Pisa during the sunset\"\n",
    "image = pipe(prompt).images[0]\n",
    "image.save(\"sunset.png\")"
   ]
  },
  {
   "cell_type": "code",
   "execution_count": null,
   "id": "ae802768",
   "metadata": {},
   "outputs": [],
   "source": [
    "from PIL import Image\n",
    "import torchvision.transforms.functional as TF\n",
    "import matplotlib.pyplot as plt\n",
    "from tqdm import trange\n",
    "\n",
    "with torch.no_grad():\n",
    "    start_image = Image.open(\"night.png\")\n",
    "    start_image = TF.resize(start_image, (256, 256))\n",
    "    start_image = TF.to_tensor(start_image)\n",
    "    start_image = start_image.unsqueeze(0).half().cuda()\n",
    "\n",
    "    end_image = Image.open(\"sunset.png\")\n",
    "    end_image = TF.resize(end_image, (256, 256))\n",
    "    end_image = TF.to_tensor(end_image)\n",
    "    end_image = end_image.unsqueeze(0).half().cuda()\n",
    "\n",
    "\n",
    "    start_latent_space = pipe.vae.encode(start_image)\n",
    "    start_sample = start_latent_space.latent_dist.mean\n",
    "\n",
    "    end_latent_space = pipe.vae.encode(end_image)\n",
    "    end_sample = end_latent_space.latent_dist.mean\n",
    "\n",
    "    direction = end_sample - start_sample\n",
    "\n",
    "    frames = []\n",
    "    steps = 150\n",
    "    for i in trange(0, steps+1):\n",
    "        sample = start_sample + direction * (i / steps)\n",
    "        out = pipe.vae.decode(sample)\n",
    "        out = out.sample[0].float().cpu().detach().numpy().transpose(1, 2, 0)\n",
    "        out = (out * 255).astype(\"uint8\")\n",
    "        frames.append(out)\n"
   ]
  },
  {
   "cell_type": "code",
   "execution_count": null,
   "id": "d6aae653",
   "metadata": {},
   "outputs": [],
   "source": [
    "import imageio\n",
    "imageio.mimsave('morph.gif', frames, fps=30)"
   ]
  }
 ],
 "metadata": {
  "kernelspec": {
   "display_name": "Python 3 (ipykernel)",
   "language": "python",
   "name": "python3"
  },
  "language_info": {
   "codemirror_mode": {
    "name": "ipython",
    "version": 3
   },
   "file_extension": ".py",
   "mimetype": "text/x-python",
   "name": "python",
   "nbconvert_exporter": "python",
   "pygments_lexer": "ipython3",
   "version": "3.10.12"
  }
 },
 "nbformat": 4,
 "nbformat_minor": 5
}
