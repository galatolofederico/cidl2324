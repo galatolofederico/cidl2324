{
 "cells": [
  {
   "cell_type": "code",
   "execution_count": 1,
   "metadata": {},
   "outputs": [],
   "source": [
    "import torch\n",
    "import torchvision\n",
    "\n",
    "\n",
    "train_mnist = torchvision.datasets.MNIST(\n",
    "    \"./data\",\n",
    "    train=True,\n",
    "    download=True,\n",
    "    transform=torchvision.transforms.Compose([\n",
    "        torchvision.transforms.ToTensor(),\n",
    "        torchvision.transforms.Normalize((0.1307,), (0.3081,))\n",
    "    ])\n",
    ")\n",
    "\n",
    "test_mnist = torchvision.datasets.MNIST(\n",
    "    \"./data\",\n",
    "    train=False,\n",
    "    download=True,\n",
    "    transform=torchvision.transforms.Compose([\n",
    "        torchvision.transforms.ToTensor(),\n",
    "        torchvision.transforms.Normalize((0.1307,), (0.3081,))\n",
    "    ])\n",
    ")\n"
   ]
  },
  {
   "cell_type": "code",
   "execution_count": 5,
   "metadata": {},
   "outputs": [
    {
     "name": "stdout",
     "output_type": "stream",
     "text": [
      "torch.Size([1, 10])\n"
     ]
    }
   ],
   "source": [
    "model = torch.nn.Sequential(\n",
    "    torch.nn.Linear(28 * 28, 300),\n",
    "    torch.nn.LeakyReLU(),\n",
    "    torch.nn.Linear(300, 300),\n",
    "    torch.nn.LeakyReLU(),\n",
    "    torch.nn.Linear(300, 10),\n",
    "    torch.nn.Softmax(dim=1)\n",
    ")\n",
    "\n",
    "model.to(\"cuda\")\n",
    "\n",
    "for digit, cls in train_mnist:\n",
    "    digit = digit.to(\"cuda\")\n",
    "    digit = digit.view(digit.shape[0], 28 * 28)\n",
    "    print(model(digit).shape)\n",
    "    break"
   ]
  },
  {
   "cell_type": "code",
   "execution_count": 8,
   "metadata": {},
   "outputs": [
    {
     "name": "stderr",
     "output_type": "stream",
     "text": [
      "Loss: 1.5271, Accuracy: 0.9375: 100%|██████████| 1875/1875 [00:08<00:00, 225.28it/s]\n",
      "Loss: 1.4921, Accuracy: 0.9688: 100%|██████████| 1875/1875 [00:08<00:00, 230.53it/s]\n",
      "Loss: 1.4612, Accuracy: 1.0000: 100%|██████████| 1875/1875 [00:08<00:00, 222.05it/s]\n"
     ]
    }
   ],
   "source": [
    "from tqdm import tqdm\n",
    "\n",
    "dl = torch.utils.data.DataLoader(train_mnist, batch_size=32, shuffle=True)\n",
    "loss_fn = torch.nn.CrossEntropyLoss()\n",
    "optimizer = torch.optim.Adam(model.parameters(), lr=0.001)\n",
    "\n",
    "for epoch in range(3):\n",
    "    bar = tqdm(dl)\n",
    "    for digit, cls in bar:\n",
    "        digit = digit.to(\"cuda\")\n",
    "        cls = cls.to(\"cuda\")\n",
    "\n",
    "        digit = digit.view(digit.shape[0], 28 * 28)\n",
    "        pred = model(digit)\n",
    "\n",
    "        loss = loss_fn(pred, cls)\n",
    "        accuracy = (pred.argmax(dim=1) == cls).float().mean()\n",
    "        bar.set_description(f\"Loss: {loss.item():.4f}, Accuracy: {accuracy.item():.4f}\")\n",
    "\n",
    "        optimizer.zero_grad()\n",
    "        loss.backward()\n",
    "        optimizer.step()"
   ]
  }
 ],
 "metadata": {
  "kernelspec": {
   "display_name": ".venv",
   "language": "python",
   "name": "python3"
  },
  "language_info": {
   "codemirror_mode": {
    "name": "ipython",
    "version": 3
   },
   "file_extension": ".py",
   "mimetype": "text/x-python",
   "name": "python",
   "nbconvert_exporter": "python",
   "pygments_lexer": "ipython3",
   "version": "3.11.5"
  },
  "orig_nbformat": 4
 },
 "nbformat": 4,
 "nbformat_minor": 2
}
