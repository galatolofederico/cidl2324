{
 "cells": [
  {
   "cell_type": "code",
   "execution_count": 5,
   "metadata": {},
   "outputs": [
    {
     "data": {
      "text/plain": [
       "(-9.220342264640013, -26.542222567962877)"
      ]
     },
     "execution_count": 5,
     "metadata": {},
     "output_type": "execute_result"
    }
   ],
   "source": [
    "import torch\n",
    "\n",
    "class PointDataset(torch.utils.data.Dataset):\n",
    "    def __init__(self, filename):\n",
    "        self.data = []\n",
    "        \n",
    "        with open(filename, 'r') as f:\n",
    "            for line in f:\n",
    "                x, y = line.split(\" \")\n",
    "                x, y = float(x), float(y)\n",
    "                self.data.append((x, y))\n",
    "    \n",
    "    def __len__(self):\n",
    "        return len(self.data)\n",
    "    \n",
    "    def __getitem__(self, idx):\n",
    "        return self.data[idx]\n",
    "\n",
    "\n",
    "ds = PointDataset(\"dataset1.txt\")"
   ]
  },
  {
   "cell_type": "code",
   "execution_count": 7,
   "metadata": {},
   "outputs": [
    {
     "name": "stdout",
     "output_type": "stream",
     "text": [
      "[Parameter containing:\n",
      "tensor([0.4839], requires_grad=True)]\n",
      "tensor([0.9679], grad_fn=<MulBackward0>)\n"
     ]
    }
   ],
   "source": [
    "class LineModule(torch.nn.Module):\n",
    "    def __init__(self):\n",
    "        super().__init__()\n",
    "        self.w = torch.nn.Parameter(torch.rand(1))\n",
    "    \n",
    "    def forward(self, x):\n",
    "        return self.w * x\n",
    "    \n",
    "\n",
    "model = LineModule()\n",
    "print(list(model.parameters()))\n",
    "print(model(torch.tensor([2.0])))"
   ]
  },
  {
   "cell_type": "code",
   "execution_count": 10,
   "metadata": {},
   "outputs": [
    {
     "name": "stderr",
     "output_type": "stream",
     "text": [
      "100%|██████████| 1000/1000 [00:01<00:00, 619.21it/s]\n"
     ]
    }
   ],
   "source": [
    "from tqdm import trange\n",
    "\n",
    "ds = PointDataset(\"dataset1.txt\")\n",
    "model = LineModule()\n",
    "dl = torch.utils.data.DataLoader(ds, batch_size=8)\n",
    "\n",
    "optimizer = torch.optim.SGD(model.parameters(), lr=0.001)\n",
    "loss_fn = torch.nn.MSELoss()\n",
    "\n",
    "for epoch in trange(1000):\n",
    "    for batch in dl:\n",
    "        x, y = batch\n",
    "        y_pred = model(x)\n",
    "        loss = loss_fn(y_pred, y)\n",
    "        optimizer.zero_grad()\n",
    "        loss.backward()\n",
    "        optimizer.step()"
   ]
  },
  {
   "cell_type": "code",
   "execution_count": 11,
   "metadata": {},
   "outputs": [
    {
     "name": "stdout",
     "output_type": "stream",
     "text": [
      "Parameter containing:\n",
      "tensor([2.3977], requires_grad=True)\n"
     ]
    }
   ],
   "source": [
    "print(model.w)"
   ]
  }
 ],
 "metadata": {
  "kernelspec": {
   "display_name": "Python 3",
   "language": "python",
   "name": "python3"
  },
  "language_info": {
   "codemirror_mode": {
    "name": "ipython",
    "version": 3
   },
   "file_extension": ".py",
   "mimetype": "text/x-python",
   "name": "python",
   "nbconvert_exporter": "python",
   "pygments_lexer": "ipython3",
   "version": "3.11.5"
  },
  "orig_nbformat": 4
 },
 "nbformat": 4,
 "nbformat_minor": 2
}
